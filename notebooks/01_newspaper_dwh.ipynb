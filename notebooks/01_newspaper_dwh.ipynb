{
 "cells": [
  {
   "cell_type": "markdown",
   "id": "23d870ff-06d6-4c02-b14d-fb3fb68f12f9",
   "metadata": {},
   "source": [
    "# Webscraping Newspaper - ETL"
   ]
  },
  {
   "cell_type": "markdown",
   "id": "ad3d6853-8e50-4df2-87ad-a9c9d8c7c2ed",
   "metadata": {},
   "source": [
    "## Vorbereitung"
   ]
  },
  {
   "cell_type": "code",
   "execution_count": 2,
   "id": "4db0aada-3872-48c2-a217-890742ea4029",
   "metadata": {},
   "outputs": [],
   "source": [
    "import os\n",
    "from bs4 import BeautifulSoup\n",
    "import requests\n",
    "import pandas as pd\n",
    "import numpy as np\n",
    "import sqlite3\n",
    "import datetime as dt\n",
    "import itertools\n",
    "import glob as glob\n",
    "from time import time\n",
    "import re\n",
    "from langdetect import detect\n",
    "import warnings\n",
    "warnings.simplefilter(action='ignore', category=FutureWarning)"
   ]
  },
  {
   "cell_type": "markdown",
   "id": "54d62aa5-2364-40b6-8033-7dd668da6001",
   "metadata": {},
   "source": [
    "## Daten laden und selektieren  \n",
    "**paper_list** umfasst News-Portale (4), die in die Analyse aufgenommen werden sollen  \n",
    "**date_list** umfast alle Daten vom 03.03.2021 bis zum 31.01.2022 (335), die analysiert werden sollen  "
   ]
  },
  {
   "cell_type": "code",
   "execution_count": 3,
   "id": "d2f7ba2e-8b46-4c3e-a5cd-418ca2734f07",
   "metadata": {},
   "outputs": [],
   "source": [
    "INPUT_BASE_PATH = os.path.join(\"..\",\"input\")\n",
    "INPUT_PATH = os.path.join(INPUT_BASE_PATH,\"data-lake\")\n",
    "SQL_PATH = os.path.join(\"..\", \"output\", \"dwh.sqlite3\")"
   ]
  },
  {
   "cell_type": "code",
   "execution_count": 4,
   "id": "0196ef47-ec7a-47ff-b69c-fbd57972f109",
   "metadata": {},
   "outputs": [],
   "source": [
    "connection = sqlite3.connect(SQL_PATH)"
   ]
  },
  {
   "cell_type": "code",
   "execution_count": 5,
   "id": "421d8e97-2140-4d7e-bd17-7171714723f5",
   "metadata": {},
   "outputs": [],
   "source": [
    "# paper_list umfasst alle für die Analyse ausgewählte News-Portale.\n",
    "paper_list = [\"abendblatt\", \"sz\", \"handelsblatt\", \"cnn\", \"bbc\", \"economist\", \"economist \"]"
   ]
  },
  {
   "cell_type": "code",
   "execution_count": 6,
   "id": "548c5d8b-a668-40ce-8a71-824bfbd27fb4",
   "metadata": {},
   "outputs": [
    {
     "data": {
      "text/plain": [
       "7"
      ]
     },
     "execution_count": 6,
     "metadata": {},
     "output_type": "execute_result"
    }
   ],
   "source": [
    "# Anzahl News-Portale:\n",
    "number_of_newspapers = len(paper_list)\n",
    "number_of_newspapers"
   ]
  },
  {
   "cell_type": "code",
   "execution_count": 7,
   "id": "0d9c9842-ddcf-4576-9d29-3b1ce6754371",
   "metadata": {},
   "outputs": [
    {
     "data": {
      "text/plain": [
       "datetime.date(2021, 3, 2)"
      ]
     },
     "execution_count": 7,
     "metadata": {},
     "output_type": "execute_result"
    }
   ],
   "source": [
    "start_date = dt.date.fromisoformat(\"2021-03-02\")\n",
    "start_date"
   ]
  },
  {
   "cell_type": "code",
   "execution_count": 8,
   "id": "8f6d8e15-11f6-4b54-9aba-2b5f0b42cce3",
   "metadata": {},
   "outputs": [],
   "source": [
    "day = dt.timedelta(days=1)"
   ]
  },
  {
   "cell_type": "code",
   "execution_count": 9,
   "id": "59a8a048-fd9b-4068-9e31-aafabf736a61",
   "metadata": {},
   "outputs": [],
   "source": [
    "#date_list: Daten vom 03.03.2021 bis zum 31.01.2022 erzeugt und als Liste gespeichert\n",
    "\n",
    "date_list= []\n",
    "for i in range(335):\n",
    "    start_date += day\n",
    "    date_list.append(start_date)\n",
    "#date_list"
   ]
  },
  {
   "cell_type": "code",
   "execution_count": 10,
   "id": "34826089-053b-4e94-8086-61a3ff7cc46c",
   "metadata": {},
   "outputs": [
    {
     "data": {
      "text/plain": [
       "335"
      ]
     },
     "execution_count": 10,
     "metadata": {},
     "output_type": "execute_result"
    }
   ],
   "source": [
    "#Anzahl der analysierten Tage:\n",
    "number_of_days = len(date_list)\n",
    "number_of_days"
   ]
  },
  {
   "cell_type": "markdown",
   "id": "23a51da3-58a1-4e4c-9d03-b02540dc643c",
   "metadata": {},
   "source": [
    "#### Datenqualität\n",
    "Check: Missing Values (wenn status != 200, Fehler beim Download)   \n",
    "**Ergebnis:** 1 fehlerhafter Download: The Economist vom 08.03.2021 wurde gelöscht  \n",
    "Downloads von 6 Portalen an 335 Tagen = 2.033 Dateien \n"
   ]
  },
  {
   "cell_type": "code",
   "execution_count": 11,
   "id": "e57e25cf-662c-4cb5-ac3d-88f42a94a855",
   "metadata": {},
   "outputs": [
    {
     "name": "stdout",
     "output_type": "stream",
     "text": [
      "339\n"
     ]
    },
    {
     "data": {
      "text/plain": [
       "['..\\\\input\\\\data-lake\\\\2021-03-03.csv',\n",
       " '..\\\\input\\\\data-lake\\\\2021-03-04.csv',\n",
       " '..\\\\input\\\\data-lake\\\\2021-03-05.csv',\n",
       " '..\\\\input\\\\data-lake\\\\2021-03-06.csv',\n",
       " '..\\\\input\\\\data-lake\\\\2021-03-07.csv']"
      ]
     },
     "execution_count": 11,
     "metadata": {},
     "output_type": "execute_result"
    }
   ],
   "source": [
    "# csv-Dateien auswählen\n",
    "csv_data = glob.glob(os.path.join(INPUT_PATH, \"*.csv\"))\n",
    "print(len(csv_data))  #Anzahl csv-Dateien (= Anzahl Tage): 339\n",
    "csv_data[0:5]"
   ]
  },
  {
   "cell_type": "code",
   "execution_count": 12,
   "id": "a7058da9-ca62-4c71-80b7-f019d1d6a58a",
   "metadata": {},
   "outputs": [],
   "source": [
    "df = [pd.read_csv(csv, index_col=0) for csv in csv_data]\n",
    "csv_df = pd.concat(df)\n",
    "#csv_df.file_name = csv_df.file_name.str.replace(' ', '') #Löschung Leerzeichen\n",
    "#csv_df.name = csv_df.name.str.replace(' ', '') #Löschung Leerzeichen\n",
    "#csv_df.head()"
   ]
  },
  {
   "cell_type": "code",
   "execution_count": 13,
   "id": "8ff3d087-4e3d-4ce1-a83c-ce8943cceb32",
   "metadata": {},
   "outputs": [
    {
     "data": {
      "text/html": [
       "<div>\n",
       "<style scoped>\n",
       "    .dataframe tbody tr th:only-of-type {\n",
       "        vertical-align: middle;\n",
       "    }\n",
       "\n",
       "    .dataframe tbody tr th {\n",
       "        vertical-align: top;\n",
       "    }\n",
       "\n",
       "    .dataframe thead th {\n",
       "        text-align: right;\n",
       "    }\n",
       "</style>\n",
       "<table border=\"1\" class=\"dataframe\">\n",
       "  <thead>\n",
       "    <tr style=\"text-align: right;\">\n",
       "      <th></th>\n",
       "      <th>name</th>\n",
       "      <th>date</th>\n",
       "      <th>file_name</th>\n",
       "      <th>status</th>\n",
       "      <th>original_url</th>\n",
       "      <th>final_url</th>\n",
       "      <th>encoding</th>\n",
       "    </tr>\n",
       "  </thead>\n",
       "  <tbody>\n",
       "    <tr>\n",
       "      <th>0</th>\n",
       "      <td>sz</td>\n",
       "      <td>2021-03-03</td>\n",
       "      <td>data-lake/2021-03-03-sz.html</td>\n",
       "      <td>200</td>\n",
       "      <td>https://www.sueddeutsche.de/</td>\n",
       "      <td>https://www.sueddeutsche.de/</td>\n",
       "      <td>UTF-8</td>\n",
       "    </tr>\n",
       "    <tr>\n",
       "      <th>7</th>\n",
       "      <td>abendblatt</td>\n",
       "      <td>2021-03-03</td>\n",
       "      <td>data-lake/2021-03-03-abendblatt.html</td>\n",
       "      <td>200</td>\n",
       "      <td>https://www.abendblatt.de/</td>\n",
       "      <td>https://www.abendblatt.de/</td>\n",
       "      <td>UTF-8</td>\n",
       "    </tr>\n",
       "    <tr>\n",
       "      <th>15</th>\n",
       "      <td>handelsblatt</td>\n",
       "      <td>2021-03-03</td>\n",
       "      <td>data-lake/2021-03-03-handelsblatt.html</td>\n",
       "      <td>200</td>\n",
       "      <td>https://www.handelsblatt.com/</td>\n",
       "      <td>https://www.handelsblatt.com/</td>\n",
       "      <td>utf-8</td>\n",
       "    </tr>\n",
       "    <tr>\n",
       "      <th>21</th>\n",
       "      <td>economist</td>\n",
       "      <td>2021-03-03</td>\n",
       "      <td>data-lake/2021-03-03-economist .html</td>\n",
       "      <td>200</td>\n",
       "      <td>https://www.economist.com/</td>\n",
       "      <td>https://www.economist.com/</td>\n",
       "      <td>utf-8</td>\n",
       "    </tr>\n",
       "    <tr>\n",
       "      <th>37</th>\n",
       "      <td>cnn</td>\n",
       "      <td>2021-03-03</td>\n",
       "      <td>data-lake/2021-03-03-cnn.html</td>\n",
       "      <td>200</td>\n",
       "      <td>https://edition.cnn.com/</td>\n",
       "      <td>https://edition.cnn.com/</td>\n",
       "      <td>utf-8</td>\n",
       "    </tr>\n",
       "    <tr>\n",
       "      <th>38</th>\n",
       "      <td>bbc</td>\n",
       "      <td>2021-03-03</td>\n",
       "      <td>data-lake/2021-03-03-bbc.html</td>\n",
       "      <td>200</td>\n",
       "      <td>https://www.bbc.com/</td>\n",
       "      <td>https://www.bbc.com/</td>\n",
       "      <td>utf-8</td>\n",
       "    </tr>\n",
       "  </tbody>\n",
       "</table>\n",
       "</div>"
      ],
      "text/plain": [
       "            name        date                               file_name  status  \\\n",
       "0             sz  2021-03-03            data-lake/2021-03-03-sz.html     200   \n",
       "7     abendblatt  2021-03-03    data-lake/2021-03-03-abendblatt.html     200   \n",
       "15  handelsblatt  2021-03-03  data-lake/2021-03-03-handelsblatt.html     200   \n",
       "21    economist   2021-03-03    data-lake/2021-03-03-economist .html     200   \n",
       "37           cnn  2021-03-03           data-lake/2021-03-03-cnn.html     200   \n",
       "38           bbc  2021-03-03           data-lake/2021-03-03-bbc.html     200   \n",
       "\n",
       "                     original_url                      final_url encoding  \n",
       "0    https://www.sueddeutsche.de/   https://www.sueddeutsche.de/    UTF-8  \n",
       "7      https://www.abendblatt.de/     https://www.abendblatt.de/    UTF-8  \n",
       "15  https://www.handelsblatt.com/  https://www.handelsblatt.com/    utf-8  \n",
       "21     https://www.economist.com/     https://www.economist.com/    utf-8  \n",
       "37       https://edition.cnn.com/       https://edition.cnn.com/    utf-8  \n",
       "38           https://www.bbc.com/           https://www.bbc.com/    utf-8  "
      ]
     },
     "execution_count": 13,
     "metadata": {},
     "output_type": "execute_result"
    }
   ],
   "source": [
    "log_df = csv_df.loc[(csv_df['name'].isin(paper_list))]\n",
    "#s1.str.contains('og', regex=False)\n",
    "#log_df = csv_df.loc[(csv_df['name'].str.contains(paper_list, regex=True))]\n",
    "log_df.head(6)  # Log-Dateien aller vorselektierten News-Portale"
   ]
  },
  {
   "cell_type": "code",
   "execution_count": 14,
   "id": "3e46bbe9-eb06-40d8-99a8-caf39271f39b",
   "metadata": {},
   "outputs": [
    {
     "data": {
      "text/html": [
       "<div>\n",
       "<style scoped>\n",
       "    .dataframe tbody tr th:only-of-type {\n",
       "        vertical-align: middle;\n",
       "    }\n",
       "\n",
       "    .dataframe tbody tr th {\n",
       "        vertical-align: top;\n",
       "    }\n",
       "\n",
       "    .dataframe thead th {\n",
       "        text-align: right;\n",
       "    }\n",
       "</style>\n",
       "<table border=\"1\" class=\"dataframe\">\n",
       "  <thead>\n",
       "    <tr style=\"text-align: right;\">\n",
       "      <th></th>\n",
       "      <th>name</th>\n",
       "      <th>date</th>\n",
       "      <th>file_name</th>\n",
       "      <th>status</th>\n",
       "      <th>original_url</th>\n",
       "      <th>final_url</th>\n",
       "      <th>encoding</th>\n",
       "    </tr>\n",
       "  </thead>\n",
       "  <tbody>\n",
       "    <tr>\n",
       "      <th>21</th>\n",
       "      <td>economist</td>\n",
       "      <td>2021-03-08</td>\n",
       "      <td>data-lake/2021-03-08-economist .html</td>\n",
       "      <td>403</td>\n",
       "      <td>https://www.economist.com/</td>\n",
       "      <td>https://www.economist.com/</td>\n",
       "      <td>ISO-8859-1</td>\n",
       "    </tr>\n",
       "  </tbody>\n",
       "</table>\n",
       "</div>"
      ],
      "text/plain": [
       "          name        date                             file_name  status  \\\n",
       "21  economist   2021-03-08  data-lake/2021-03-08-economist .html     403   \n",
       "\n",
       "                  original_url                   final_url    encoding  \n",
       "21  https://www.economist.com/  https://www.economist.com/  ISO-8859-1  "
      ]
     },
     "execution_count": 14,
     "metadata": {},
     "output_type": "execute_result"
    }
   ],
   "source": [
    "# alle Downloads mit Fehlermeldungen anzeigen: status != 200\n",
    "log_df.loc[(log_df['status'] != 200)]"
   ]
  },
  {
   "cell_type": "code",
   "execution_count": 15,
   "id": "a1d1d2eb-2bbe-4c2e-a9ff-9d148699018b",
   "metadata": {},
   "outputs": [
    {
     "data": {
      "text/html": [
       "<div>\n",
       "<style scoped>\n",
       "    .dataframe tbody tr th:only-of-type {\n",
       "        vertical-align: middle;\n",
       "    }\n",
       "\n",
       "    .dataframe tbody tr th {\n",
       "        vertical-align: top;\n",
       "    }\n",
       "\n",
       "    .dataframe thead th {\n",
       "        text-align: right;\n",
       "    }\n",
       "</style>\n",
       "<table border=\"1\" class=\"dataframe\">\n",
       "  <thead>\n",
       "    <tr style=\"text-align: right;\">\n",
       "      <th></th>\n",
       "      <th>name</th>\n",
       "      <th>date</th>\n",
       "      <th>file_name</th>\n",
       "      <th>status</th>\n",
       "      <th>original_url</th>\n",
       "      <th>final_url</th>\n",
       "      <th>encoding</th>\n",
       "    </tr>\n",
       "  </thead>\n",
       "  <tbody>\n",
       "    <tr>\n",
       "      <th>0</th>\n",
       "      <td>sz</td>\n",
       "      <td>2021-03-03</td>\n",
       "      <td>data-lake/2021-03-03-sz.html</td>\n",
       "      <td>200</td>\n",
       "      <td>https://www.sueddeutsche.de/</td>\n",
       "      <td>https://www.sueddeutsche.de/</td>\n",
       "      <td>UTF-8</td>\n",
       "    </tr>\n",
       "    <tr>\n",
       "      <th>7</th>\n",
       "      <td>abendblatt</td>\n",
       "      <td>2021-03-03</td>\n",
       "      <td>data-lake/2021-03-03-abendblatt.html</td>\n",
       "      <td>200</td>\n",
       "      <td>https://www.abendblatt.de/</td>\n",
       "      <td>https://www.abendblatt.de/</td>\n",
       "      <td>UTF-8</td>\n",
       "    </tr>\n",
       "    <tr>\n",
       "      <th>15</th>\n",
       "      <td>handelsblatt</td>\n",
       "      <td>2021-03-03</td>\n",
       "      <td>data-lake/2021-03-03-handelsblatt.html</td>\n",
       "      <td>200</td>\n",
       "      <td>https://www.handelsblatt.com/</td>\n",
       "      <td>https://www.handelsblatt.com/</td>\n",
       "      <td>utf-8</td>\n",
       "    </tr>\n",
       "    <tr>\n",
       "      <th>21</th>\n",
       "      <td>economist</td>\n",
       "      <td>2021-03-03</td>\n",
       "      <td>data-lake/2021-03-03-economist .html</td>\n",
       "      <td>200</td>\n",
       "      <td>https://www.economist.com/</td>\n",
       "      <td>https://www.economist.com/</td>\n",
       "      <td>utf-8</td>\n",
       "    </tr>\n",
       "    <tr>\n",
       "      <th>37</th>\n",
       "      <td>cnn</td>\n",
       "      <td>2021-03-03</td>\n",
       "      <td>data-lake/2021-03-03-cnn.html</td>\n",
       "      <td>200</td>\n",
       "      <td>https://edition.cnn.com/</td>\n",
       "      <td>https://edition.cnn.com/</td>\n",
       "      <td>utf-8</td>\n",
       "    </tr>\n",
       "    <tr>\n",
       "      <th>38</th>\n",
       "      <td>bbc</td>\n",
       "      <td>2021-03-03</td>\n",
       "      <td>data-lake/2021-03-03-bbc.html</td>\n",
       "      <td>200</td>\n",
       "      <td>https://www.bbc.com/</td>\n",
       "      <td>https://www.bbc.com/</td>\n",
       "      <td>utf-8</td>\n",
       "    </tr>\n",
       "  </tbody>\n",
       "</table>\n",
       "</div>"
      ],
      "text/plain": [
       "            name        date                               file_name  status  \\\n",
       "0             sz  2021-03-03            data-lake/2021-03-03-sz.html     200   \n",
       "7     abendblatt  2021-03-03    data-lake/2021-03-03-abendblatt.html     200   \n",
       "15  handelsblatt  2021-03-03  data-lake/2021-03-03-handelsblatt.html     200   \n",
       "21    economist   2021-03-03    data-lake/2021-03-03-economist .html     200   \n",
       "37           cnn  2021-03-03           data-lake/2021-03-03-cnn.html     200   \n",
       "38           bbc  2021-03-03           data-lake/2021-03-03-bbc.html     200   \n",
       "\n",
       "                     original_url                      final_url encoding  \n",
       "0    https://www.sueddeutsche.de/   https://www.sueddeutsche.de/    UTF-8  \n",
       "7      https://www.abendblatt.de/     https://www.abendblatt.de/    UTF-8  \n",
       "15  https://www.handelsblatt.com/  https://www.handelsblatt.com/    utf-8  \n",
       "21     https://www.economist.com/     https://www.economist.com/    utf-8  \n",
       "37       https://edition.cnn.com/       https://edition.cnn.com/    utf-8  \n",
       "38           https://www.bbc.com/           https://www.bbc.com/    utf-8  "
      ]
     },
     "execution_count": 15,
     "metadata": {},
     "output_type": "execute_result"
    }
   ],
   "source": [
    "#fehlerhafte Downloads löschen\n",
    "log_df = log_df.loc[(log_df['status'] == 200)]\n",
    "log_df.head(6)"
   ]
  },
  {
   "cell_type": "code",
   "execution_count": 15,
   "id": "ac6a8f04-f346-4e61-937d-7083eac62e0b",
   "metadata": {},
   "outputs": [
    {
     "data": {
      "text/plain": [
       "(2033, 7)"
      ]
     },
     "execution_count": 15,
     "metadata": {},
     "output_type": "execute_result"
    }
   ],
   "source": [
    "# Rein rechnerisch sollten es 6 Zeitungen x 339 Tage = 2.034 abzügl. einem fehlerhaften Download = 2033 Dateien sein. \n",
    "# Es befinden sich jedoch nur 1980 Zeilen / Dateien im Datensatz. \n",
    "# -> Check Fehlmenge: 53 Dateien?\n",
    "log_df.shape"
   ]
  },
  {
   "cell_type": "code",
   "execution_count": 17,
   "id": "03be77a3-c94b-4c58-ba57-c867ae60fd4c",
   "metadata": {},
   "outputs": [
    {
     "name": "stdout",
     "output_type": "stream",
     "text": [
      "2034\n"
     ]
    }
   ],
   "source": [
    "# Check: Anzahl html Files im Data Lake\n",
    "# Soll: 6 x 339 = 2.034\n",
    "\n",
    "newspapers = ('*sz.html', '*handelsblatt.html',  '*abendblatt.html', '*economist .html', '*economist.html', '*cnn.html', '*bbc.html')\n",
    "files_list = []\n",
    "for newspaper in newspapers:\n",
    "    files_list.extend(glob.glob(os.path.join(INPUT_PATH, newspaper)))\n",
    "print(len(files_list))"
   ]
  },
  {
   "cell_type": "markdown",
   "id": "b7e995fa-482a-4ed5-8ef2-84240fb9ad7d",
   "metadata": {},
   "source": [
    "**ACHTUNG:** inkonsistente Benennung der Datei-Namen für The Economist!   \n",
    "Es wurden 53 der economist-Downloads richtig benannt (*economist.html).  \n",
    "Bei den anderen 286 wurde ein Leerzeichen eingefügt (*economist .html).  \n",
    "**Lösung:** Beide Schreibweisen wurden in die paper_list aufgenommen, um umfangreiche Umbenennungen zu vermeiden."
   ]
  },
  {
   "cell_type": "markdown",
   "id": "54a4cdd9-effc-4f18-aede-64416da809f7",
   "metadata": {},
   "source": [
    "## Transform "
   ]
  },
  {
   "cell_type": "code",
   "execution_count": 18,
   "id": "f2aaef41-03ba-4ee6-a53b-c4d3ec61f7b4",
   "metadata": {},
   "outputs": [],
   "source": [
    "# Liste aller html-Dateien erstellen\n",
    "#html_data = glob.glob(os.path.join(INPUT_PATH,\"*.html\")\n",
    "#print(len(html_data))  #Anzahl csv-Dateien \n",
    "#html_data[0:5]"
   ]
  },
  {
   "cell_type": "markdown",
   "id": "eff0b633-5e11-4704-935e-d188f4ceb8de",
   "metadata": {},
   "source": [
    "### Remove HTML Formating + Stopwords"
   ]
  },
  {
   "cell_type": "code",
   "execution_count": 19,
   "id": "4fb63617-b571-4a82-95df-e34ab0d387a6",
   "metadata": {},
   "outputs": [],
   "source": [
    "stopwords_url_de = \"https://raw.githubusercontent.com/solariz/german_stopwords/master/german_stopwords_full.txt\"\n",
    "stopwords_list_de = requests.get(stopwords_url_de, allow_redirects=True).text.split(\"\\n\")[9:]\n",
    "\n",
    "stopwords_url_en = \"https://gist.githubusercontent.com/sebleier/554280/raw/7e0e4a1ce04c2bb7bd41089c9821dbcf6d0c786c/NLTK's%2520list%2520of%2520english%2520stopwords\"\n",
    "stopwords_list_en = requests.get(stopwords_url_en, allow_redirects=True).text.split(\"\\n\")[9:]"
   ]
  },
  {
   "cell_type": "code",
   "execution_count": 20,
   "id": "df244713-90a5-486b-8674-a53d80eb0f3f",
   "metadata": {},
   "outputs": [],
   "source": [
    "# file_name in log_df beinhaltet die Namen aller html-Dateien, die für mich relevant sind\n",
    "# Encodings: utf-8 und ISO-8859-1\n",
    "\n",
    "#Parser Funktion:\n",
    "def process_html(text):\n",
    "        text = BeautifulSoup(text, \"html.parser\")\n",
    "       \n",
    "        body_text = text.body.get_text()\n",
    "        #print(detect(body_text))\n",
    "                \n",
    "        try: \n",
    "                if \"de\" in detect(body_text):\n",
    "                    #print(\"[Info] Deutsche Webpage\")\n",
    "                    text = text.text   \n",
    "                    items = text.replace(\"\\t\", \" \")\n",
    "                    items = items.replace(\"\\n\", \" \").lower().split(\" \")\n",
    "                    items = [i for i in items if len(i) > 1 and i not in stopwords_list_de]\n",
    "                    return items\n",
    "             \n",
    "                elif \"en\" in detect(body_text):\n",
    "                    #print(\"[Info] Englische Webpage\")\n",
    "                    text = text.text   \n",
    "                    items = text.replace(\"\\t\", \" \")\n",
    "                    items = items.replace(\"\\n\", \" \").lower().split(\" \")\n",
    "                    items = [i for i in items if len(i) > 1 and i not in stopwords_list_en]\n",
    "                    return items\n",
    "                else:\n",
    "                \n",
    "                    print(\"[ERROR] Sprache nicht korrekt erkannt.\")\n",
    "                \n",
    "        except:\n",
    "                print(\"[ERROR] Spracherkennung\")\n",
    "           "
   ]
  },
  {
   "cell_type": "markdown",
   "id": "ed452dab-ddab-4abe-ad1d-dc4bce730b21",
   "metadata": {},
   "source": [
    "### Wordcount \"Cum-Ex\""
   ]
  },
  {
   "cell_type": "code",
   "execution_count": 21,
   "id": "702f6f80-dc87-4fdd-9197-0599fae6d289",
   "metadata": {},
   "outputs": [
    {
     "name": "stdout",
     "output_type": "stream",
     "text": [
      "[START PROCESSING]\n",
      "[PROCESSING FILE] > 100 ..\\input\\data-lake/2021-03-19-cnn.html OF 2033\n",
      "[PROCESSING FILE] > 200 ..\\input\\data-lake/2021-04-05-handelsblatt.html OF 2033\n",
      "[PROCESSING FILE] > 300 ..\\input\\data-lake/2021-04-22-sz.html OF 2033\n",
      "[PROCESSING FILE] > 400 ..\\input\\data-lake/2021-05-08-cnn.html OF 2033\n",
      "[PROCESSING FILE] > 500 ..\\input\\data-lake/2021-05-25-handelsblatt.html OF 2033\n",
      "[PROCESSING FILE] > 600 ..\\input\\data-lake/2021-06-11-sz.html OF 2033\n",
      "[PROCESSING FILE] > 700 ..\\input\\data-lake/2021-06-27-cnn.html OF 2033\n",
      "[PROCESSING FILE] > 800 ..\\input\\data-lake/2021-07-14-handelsblatt.html OF 2033\n",
      "[PROCESSING FILE] > 900 ..\\input\\data-lake/2021-07-31-sz.html OF 2033\n",
      "[PROCESSING FILE] > 1000 ..\\input\\data-lake/2021-08-16-cnn.html OF 2033\n",
      "[PROCESSING FILE] > 1100 ..\\input\\data-lake/2021-09-02-handelsblatt.html OF 2033\n",
      "[PROCESSING FILE] > 1200 ..\\input\\data-lake/2021-09-19-sz.html OF 2033\n",
      "[PROCESSING FILE] > 1300 ..\\input\\data-lake/2021-10-05-cnn.html OF 2033\n",
      "[PROCESSING FILE] > 1400 ..\\input\\data-lake/2021-10-22-handelsblatt.html OF 2033\n",
      "[PROCESSING FILE] > 1500 ..\\input\\data-lake/2021-11-08-sz.html OF 2033\n",
      "[PROCESSING FILE] > 1600 ..\\input\\data-lake/2021-11-24-cnn.html OF 2033\n",
      "[PROCESSING FILE] > 1700 ..\\input\\data-lake/2021-12-11-handelsblatt.html OF 2033\n",
      "[PROCESSING FILE] > 1800 ..\\input\\data-lake/2021-12-28-sz.html OF 2033\n",
      "[PROCESSING FILE] > 1900 ..\\input\\data-lake/2022-01-13-cnn.html OF 2033\n",
      "[PROCESSING FILE] > 2000 ..\\input\\data-lake/2022-01-30-handelsblatt.html OF 2033\n",
      "[FINISHED PROCESSING]\n"
     ]
    }
   ],
   "source": [
    "# Wordcount: alle html-Files, die den Begriff \"Cum-Ex\" enthalten (alle Varianten)\n",
    "# Regex-Term = 'cum.*ex.*'\n",
    "\n",
    "result = pd.DataFrame()\n",
    "\n",
    "total_rows = log_df.shape[0]\n",
    "print (\"[START PROCESSING]\")\n",
    "count = 0\n",
    "for i, row in log_df.iterrows():\n",
    "    path = os.path.join(INPUT_BASE_PATH, row[\"file_name\"])\n",
    "    count += 1;\n",
    "    \n",
    "    if (count) % 100 == 0:\n",
    "        print (\"[PROCESSING FILE] >\",count,path,\"OF\",total_rows)\n",
    "    \n",
    "    encodings = row[\"encoding\"]\n",
    "    with open(path, \"r\", encoding=encodings) as f:\n",
    "        text = f.read()\n",
    "    items = process_html(text)\n",
    "    \n",
    "    new = pd.Series(items).value_counts().to_frame()\n",
    "    #print (new.head())\n",
    "    new.columns = [\"count\"]\n",
    "    new[\"word\"] = new.index\n",
    "    new[\"file_name\"] = row[\"file_name\"]\n",
    "  \n",
    "    new = new.loc[(new.word.astype(str).str.contains('cum.*ex.*'))]\n",
    "    \n",
    "   \n",
    "    \n",
    "    if len(new.index) > 0:\n",
    "        result = pd.concat([result, new], ignore_index=True, axis=0,).reset_index(level=0, drop=True)\n",
    "       \n",
    "print ('[FINISHED PROCESSING]')"
   ]
  },
  {
   "cell_type": "code",
   "execution_count": 61,
   "id": "80a7a114-2006-4274-98c5-e815c2e576c0",
   "metadata": {},
   "outputs": [],
   "source": [
    "#result.head(5)"
   ]
  },
  {
   "cell_type": "code",
   "execution_count": 58,
   "id": "16291643-05ac-4bcd-8554-b7df7af23451",
   "metadata": {},
   "outputs": [],
   "source": [
    "# Doppelpunkte entfernen\n",
    "result['word'] = result['word'].str.replace(r':', '')"
   ]
  },
  {
   "cell_type": "code",
   "execution_count": 64,
   "id": "8c277598-7a19-4c41-8674-bd8dabe82e28",
   "metadata": {},
   "outputs": [
    {
     "data": {
      "text/html": [
       "<div>\n",
       "<style scoped>\n",
       "    .dataframe tbody tr th:only-of-type {\n",
       "        vertical-align: middle;\n",
       "    }\n",
       "\n",
       "    .dataframe tbody tr th {\n",
       "        vertical-align: top;\n",
       "    }\n",
       "\n",
       "    .dataframe thead th {\n",
       "        text-align: right;\n",
       "    }\n",
       "</style>\n",
       "<table border=\"1\" class=\"dataframe\">\n",
       "  <thead>\n",
       "    <tr style=\"text-align: right;\">\n",
       "      <th></th>\n",
       "      <th>count</th>\n",
       "      <th>word</th>\n",
       "      <th>file_name</th>\n",
       "    </tr>\n",
       "  </thead>\n",
       "  <tbody>\n",
       "    <tr>\n",
       "      <th>0</th>\n",
       "      <td>1</td>\n",
       "      <td>cum-ex</td>\n",
       "      <td>data-lake/2021-03-03-abendblatt.html</td>\n",
       "    </tr>\n",
       "    <tr>\n",
       "      <th>1</th>\n",
       "      <td>1</td>\n",
       "      <td>cum-ex-affäre</td>\n",
       "      <td>data-lake/2021-03-13-abendblatt.html</td>\n",
       "    </tr>\n",
       "    <tr>\n",
       "      <th>2</th>\n",
       "      <td>2</td>\n",
       "      <td>cum-ex-ermittlungen</td>\n",
       "      <td>data-lake/2021-03-13-handelsblatt.html</td>\n",
       "    </tr>\n",
       "    <tr>\n",
       "      <th>3</th>\n",
       "      <td>1</td>\n",
       "      <td>imagecum-ex-skandal oberlandesgericht</td>\n",
       "      <td>data-lake/2021-03-13-handelsblatt.html</td>\n",
       "    </tr>\n",
       "    <tr>\n",
       "      <th>4</th>\n",
       "      <td>1</td>\n",
       "      <td>„cum-ex“-ausschuss</td>\n",
       "      <td>data-lake/2021-03-13-handelsblatt.html</td>\n",
       "    </tr>\n",
       "    <tr>\n",
       "      <th>...</th>\n",
       "      <td>...</td>\n",
       "      <td>...</td>\n",
       "      <td>...</td>\n",
       "    </tr>\n",
       "    <tr>\n",
       "      <th>120</th>\n",
       "      <td>1</td>\n",
       "      <td>cum-ex-prozess</td>\n",
       "      <td>data-lake/2022-01-13-sz.html</td>\n",
       "    </tr>\n",
       "    <tr>\n",
       "      <th>121</th>\n",
       "      <td>1</td>\n",
       "      <td>cum-ex-geschäfte</td>\n",
       "      <td>data-lake/2022-01-13-sz.html</td>\n",
       "    </tr>\n",
       "    <tr>\n",
       "      <th>122</th>\n",
       "      <td>2</td>\n",
       "      <td>cum-ex-skandal</td>\n",
       "      <td>data-lake/2022-01-19-sz.html</td>\n",
       "    </tr>\n",
       "    <tr>\n",
       "      <th>123</th>\n",
       "      <td>1</td>\n",
       "      <td>imagecum-ex-steuerskandal deutlich</td>\n",
       "      <td>data-lake/2022-01-20-handelsblatt.html</td>\n",
       "    </tr>\n",
       "    <tr>\n",
       "      <th>124</th>\n",
       "      <td>1</td>\n",
       "      <td>cum-ex-kundenliste</td>\n",
       "      <td>data-lake/2022-01-20-handelsblatt.html</td>\n",
       "    </tr>\n",
       "  </tbody>\n",
       "</table>\n",
       "<p>125 rows × 3 columns</p>\n",
       "</div>"
      ],
      "text/plain": [
       "     count                                   word  \\\n",
       "0        1                                 cum-ex   \n",
       "1        1                          cum-ex-affäre   \n",
       "2        2                    cum-ex-ermittlungen   \n",
       "3        1  imagecum-ex-skandal oberlandesgericht   \n",
       "4        1                     „cum-ex“-ausschuss   \n",
       "..     ...                                    ...   \n",
       "120      1                         cum-ex-prozess   \n",
       "121      1                       cum-ex-geschäfte   \n",
       "122      2                         cum-ex-skandal   \n",
       "123      1     imagecum-ex-steuerskandal deutlich   \n",
       "124      1                     cum-ex-kundenliste   \n",
       "\n",
       "                                  file_name  \n",
       "0      data-lake/2021-03-03-abendblatt.html  \n",
       "1      data-lake/2021-03-13-abendblatt.html  \n",
       "2    data-lake/2021-03-13-handelsblatt.html  \n",
       "3    data-lake/2021-03-13-handelsblatt.html  \n",
       "4    data-lake/2021-03-13-handelsblatt.html  \n",
       "..                                      ...  \n",
       "120            data-lake/2022-01-13-sz.html  \n",
       "121            data-lake/2022-01-13-sz.html  \n",
       "122            data-lake/2022-01-19-sz.html  \n",
       "123  data-lake/2022-01-20-handelsblatt.html  \n",
       "124  data-lake/2022-01-20-handelsblatt.html  \n",
       "\n",
       "[125 rows x 3 columns]"
      ]
     },
     "execution_count": 64,
     "metadata": {},
     "output_type": "execute_result"
    }
   ],
   "source": [
    "result"
   ]
  },
  {
   "cell_type": "code",
   "execution_count": 60,
   "id": "a364aedc-4633-4c62-b37d-425ff5047b2c",
   "metadata": {},
   "outputs": [
    {
     "data": {
      "text/plain": [
       "(125, 3)"
      ]
     },
     "execution_count": 60,
     "metadata": {},
     "output_type": "execute_result"
    }
   ],
   "source": [
    "result.shape"
   ]
  },
  {
   "cell_type": "markdown",
   "id": "bb9b5239-f4ae-4204-ae6e-14f1662ed078",
   "metadata": {},
   "source": [
    "### Ausgabe Überschriften   \n",
    "Süddeutsche Zeitung, Handelsblatt und Abendblatt "
   ]
  },
  {
   "cell_type": "markdown",
   "id": "7e5fee7a-ac8c-492b-acf7-d4db25a4d437",
   "metadata": {},
   "source": [
    "**sz_header_df** ->  Überschriften Süddeutsche Zeitung  \n",
    "**hb_header_df** ->  Überschriften Handelsblatt  \n",
    "**ab_header_df** ->  Überschriften Abendblatt  "
   ]
  },
  {
   "cell_type": "code",
   "execution_count": 26,
   "id": "cc63bab5-f0a1-4852-a306-a7ebd1ce7df7",
   "metadata": {},
   "outputs": [
    {
     "name": "stdout",
     "output_type": "stream",
     "text": [
      "339\n"
     ]
    }
   ],
   "source": [
    "# Süddeutsche: Liste aller html-Dateien\n",
    "sz_files = glob.glob(os.path.join(INPUT_PATH, \"*sz.html\"))\n",
    "print(len(sz_files))  #Anzahl html-Dateien \n",
    "#sz_files[0:5]"
   ]
  },
  {
   "cell_type": "code",
   "execution_count": 27,
   "id": "e8ac5f2b-6810-43b3-a2a2-6b695bcfabfd",
   "metadata": {},
   "outputs": [
    {
     "name": "stdout",
     "output_type": "stream",
     "text": [
      "339\n"
     ]
    }
   ],
   "source": [
    "# Handelsblatt: Liste aller html-Dateien\n",
    "hb_files = glob.glob(os.path.join(INPUT_PATH, \"*handelsblatt.html\"))\n",
    "print(len(hb_files))  #Anzahl html-Dateien \n",
    "#hb_files[0:5]"
   ]
  },
  {
   "cell_type": "code",
   "execution_count": 28,
   "id": "9ff3e8d8-6c54-4186-8f85-7f728f6a1449",
   "metadata": {},
   "outputs": [
    {
     "name": "stdout",
     "output_type": "stream",
     "text": [
      "339\n"
     ]
    }
   ],
   "source": [
    "# Abendblatt: Liste aller html-Dateien\n",
    "ab_files = glob.glob(os.path.join(INPUT_PATH, \"*abendblatt.html\"))\n",
    "print(len(ab_files))  #Anzahl html-Dateien \n",
    "#ab_files[0:5]"
   ]
  },
  {
   "cell_type": "code",
   "execution_count": 29,
   "id": "8dd06455-e9da-4e9b-a4f4-6856b561c0e8",
   "metadata": {},
   "outputs": [
    {
     "name": "stdout",
     "output_type": "stream",
     "text": [
      "                      file_name  \\\n",
      "0  data-lake/2021-03-03-sz.html   \n",
      "1  data-lake/2021-03-03-sz.html   \n",
      "2  data-lake/2021-03-03-sz.html   \n",
      "3  data-lake/2021-03-03-sz.html   \n",
      "4  data-lake/2021-03-03-sz.html   \n",
      "\n",
      "                                              header  \n",
      "0  Scholz will Corona-Beschränkungen für Geimpfte...  \n",
      "1    So könnte der Fahrplan für Lockerungen aussehen  \n",
      "2                              Wege aus dem Lockdown  \n",
      "3                                  Der Verdachtsfall  \n",
      "4  Kein Geheimdienst kann allein diese Demokratie...  \n"
     ]
    }
   ],
   "source": [
    "sz_header_df = pd.DataFrame(columns = ['file_name' , 'header'])\n",
    "\n",
    "for file in sz_files:\n",
    "    with open(file, \"r\", encoding=\"utf-8\") as f:\n",
    "        text = f.read()\n",
    "        sz_bs = BeautifulSoup(text)\n",
    "        #print(len(text))\n",
    "        for header in sz_bs.find_all(\"h3\"):\n",
    "            #print(header.text)\n",
    "            new_row = {'file_name': 'data-lake/' + os.path.basename(file), 'header':header.text}  #kein join.os, weil file_name in den csv = data-lake/date-name.html\n",
    "            sz_header_df = sz_header_df.append(new_row, ignore_index=True)\n",
    "print(sz_header_df.head())       "
   ]
  },
  {
   "cell_type": "code",
   "execution_count": 30,
   "id": "dfafe135-eb29-4c1b-ac96-4e4104d35028",
   "metadata": {},
   "outputs": [
    {
     "data": {
      "text/plain": [
       "(22362, 2)"
      ]
     },
     "execution_count": 30,
     "metadata": {},
     "output_type": "execute_result"
    }
   ],
   "source": [
    "sz_header_df.shape"
   ]
  },
  {
   "cell_type": "code",
   "execution_count": 31,
   "id": "4266fa27-e7ee-47af-8845-279fca080d1c",
   "metadata": {},
   "outputs": [
    {
     "name": "stdout",
     "output_type": "stream",
     "text": [
      "                                file_name  \\\n",
      "0  data-lake/2021-03-03-handelsblatt.html   \n",
      "1  data-lake/2021-03-03-handelsblatt.html   \n",
      "2  data-lake/2021-03-03-handelsblatt.html   \n",
      "3  data-lake/2021-03-03-handelsblatt.html   \n",
      "4  data-lake/2021-03-03-handelsblatt.html   \n",
      "\n",
      "                                              header  \n",
      "0  CoronakrisePandemiemüdigkeit in der Koalition:...  \n",
      "1  +++ Corona-News +++BASF sieht wöchentliche Cor...  \n",
      "2  ImmobilienZwei Anzeichen, dass die Bauzinsen b...  \n",
      "3  KryptowährungenStartkapital 15 Euro: Was Klein...  \n",
      "4  BewerbungZu teuer, zu qualifiziert, zu schräg:...  \n"
     ]
    }
   ],
   "source": [
    "hb_header_df = pd.DataFrame(columns = ['file_name' , 'header'])\n",
    "\n",
    "for file in hb_files:\n",
    "    with open(file, \"r\", encoding=\"utf-8\") as f:\n",
    "        text = f.read()\n",
    "        hb_bs = BeautifulSoup(text)\n",
    "        #print(len(text))\n",
    "        for header in hb_bs.select(\" div.c-teaser.c-teaser--article div.c-teaser__title h3\"):\n",
    "            #print(header.text)\n",
    "            new_row = {'file_name': 'data-lake/' + os.path.basename(file), 'header':header.text.replace(\"\\n\", \"\")}  \n",
    "            hb_header_df = hb_header_df.append(new_row, ignore_index=True)\n",
    "print(hb_header_df.head()) "
   ]
  },
  {
   "cell_type": "code",
   "execution_count": 32,
   "id": "4a4ff836-bc3a-42c6-a388-1b7c23097e14",
   "metadata": {},
   "outputs": [
    {
     "data": {
      "text/plain": [
       "(13458, 2)"
      ]
     },
     "execution_count": 32,
     "metadata": {},
     "output_type": "execute_result"
    }
   ],
   "source": [
    "hb_header_df.shape"
   ]
  },
  {
   "cell_type": "code",
   "execution_count": 33,
   "id": "cb0efc0f-8e4c-42d4-a1ab-a2ef7a083ffe",
   "metadata": {},
   "outputs": [
    {
     "name": "stdout",
     "output_type": "stream",
     "text": [
      "                              file_name  \\\n",
      "0  data-lake/2021-03-03-abendblatt.html   \n",
      "1  data-lake/2021-03-03-abendblatt.html   \n",
      "2  data-lake/2021-03-03-abendblatt.html   \n",
      "3  data-lake/2021-03-03-abendblatt.html   \n",
      "4  data-lake/2021-03-03-abendblatt.html   \n",
      "\n",
      "                                              header  \n",
      "0              Der Elbtower – nur ein Steuersparp...  \n",
      "1              Corona: Merkel zu Beginn des Gipfe...  \n",
      "2              Uni-Präsident entschuldigt sich fü...  \n",
      "3              Warum Zierpflanzen jetzt in Hambur...  \n",
      "4              Hamburg ruft nächste Gruppe zur Co...  \n"
     ]
    }
   ],
   "source": [
    "ab_header_df = pd.DataFrame(columns = ['file_name' , 'header'])\n",
    "\n",
    "for file in ab_files:\n",
    "    with open(file, \"r\", encoding=\"utf-8\") as f:\n",
    "        text = f.read()\n",
    "        ab_bs = BeautifulSoup(text)\n",
    "        #print(len(text))\n",
    "        for header in ab_bs.select(\"div.teaser__header span.teaser__headline\"):\n",
    "            #print(header.text)\n",
    "            new_row = {'file_name': 'data-lake/' + os.path.basename(file), 'header':header.text.replace(\"\\n\", \"\")}  \n",
    "            ab_header_df = ab_header_df.append(new_row, ignore_index=True)\n",
    "print(ab_header_df.head())  "
   ]
  },
  {
   "cell_type": "code",
   "execution_count": 34,
   "id": "68be8745-afa0-4a75-b09b-b8ebc0352385",
   "metadata": {},
   "outputs": [
    {
     "data": {
      "text/plain": [
       "(19363, 2)"
      ]
     },
     "execution_count": 34,
     "metadata": {},
     "output_type": "execute_result"
    }
   ],
   "source": [
    "ab_header_df.shape"
   ]
  },
  {
   "cell_type": "markdown",
   "id": "192b8344-0613-4626-84ff-5dd96ef57721",
   "metadata": {},
   "source": [
    "## Load SQL Datenbank"
   ]
  },
  {
   "cell_type": "markdown",
   "id": "f1757071-1cce-4b91-87ea-c98a28c81a59",
   "metadata": {},
   "source": [
    "#### Datei: log_data (Faktentabelle)"
   ]
  },
  {
   "cell_type": "code",
   "execution_count": 35,
   "id": "3c02f64b-dabf-4875-b2b9-49cd8dfa42bc",
   "metadata": {},
   "outputs": [
    {
     "data": {
      "text/plain": [
       "2033"
      ]
     },
     "execution_count": 35,
     "metadata": {},
     "output_type": "execute_result"
    }
   ],
   "source": [
    "log_df.to_sql(con=connection, name=\"log_data\", if_exists=\"replace\", index=False)"
   ]
  },
  {
   "cell_type": "markdown",
   "id": "958731cf-0f3f-4dec-ab5e-8f8d3f7afa33",
   "metadata": {},
   "source": [
    "#### Datei: wordcount_data (Dimension)"
   ]
  },
  {
   "cell_type": "code",
   "execution_count": 36,
   "id": "6682928b-6289-4374-b91f-4b8607603555",
   "metadata": {},
   "outputs": [
    {
     "data": {
      "text/plain": [
       "125"
      ]
     },
     "execution_count": 36,
     "metadata": {},
     "output_type": "execute_result"
    }
   ],
   "source": [
    "result.to_sql(con=connection, name=\"wordcount_data\", if_exists=\"replace\", index=False)"
   ]
  },
  {
   "cell_type": "markdown",
   "id": "2e531184-f88f-470e-a21b-226dc46f401c",
   "metadata": {},
   "source": [
    "#### Datei: sz_header_df (Dimension)"
   ]
  },
  {
   "cell_type": "code",
   "execution_count": 37,
   "id": "e3a70d97-431c-464b-a55e-7a19425bf750",
   "metadata": {},
   "outputs": [
    {
     "data": {
      "text/plain": [
       "22362"
      ]
     },
     "execution_count": 37,
     "metadata": {},
     "output_type": "execute_result"
    }
   ],
   "source": [
    "sz_header_df.to_sql(con=connection, name=\"sz_header_data\", if_exists=\"replace\", index=False)"
   ]
  },
  {
   "cell_type": "markdown",
   "id": "9cb33c51-0db1-4ea0-904e-883f7180154a",
   "metadata": {},
   "source": [
    "#### Datei: hb_header_df (Dimension)"
   ]
  },
  {
   "cell_type": "code",
   "execution_count": 38,
   "id": "0515edc2-36e2-4649-a038-cdc8cc992dc8",
   "metadata": {},
   "outputs": [
    {
     "data": {
      "text/plain": [
       "13458"
      ]
     },
     "execution_count": 38,
     "metadata": {},
     "output_type": "execute_result"
    }
   ],
   "source": [
    "hb_header_df.to_sql(con=connection, name=\"hb_header_data\", if_exists=\"replace\", index=False)"
   ]
  },
  {
   "cell_type": "markdown",
   "id": "c0e8ffde-2607-43ec-9a11-7fb4bf13572d",
   "metadata": {},
   "source": [
    "#### Datei: ab_header_df (Dimension)"
   ]
  },
  {
   "cell_type": "code",
   "execution_count": 39,
   "id": "160475f4-375a-4ee2-852e-84585da7ad74",
   "metadata": {},
   "outputs": [
    {
     "data": {
      "text/plain": [
       "19363"
      ]
     },
     "execution_count": 39,
     "metadata": {},
     "output_type": "execute_result"
    }
   ],
   "source": [
    "ab_header_df.to_sql(con=connection, name=\"ab_header_data\", if_exists=\"replace\", index=False)"
   ]
  },
  {
   "cell_type": "markdown",
   "id": "d5759d5d-2913-4b9e-97f8-d843c5803454",
   "metadata": {},
   "source": [
    "## DWH Qualitätssicherung"
   ]
  },
  {
   "cell_type": "markdown",
   "id": "8b7f01da-bb81-481f-878f-6cb9c8be8b12",
   "metadata": {},
   "source": [
    "#### Datei: log_data (Faktentabelle)"
   ]
  },
  {
   "cell_type": "code",
   "execution_count": 40,
   "id": "4d4a5c46-d5a4-45c1-b30e-f46d261966d3",
   "metadata": {},
   "outputs": [
    {
     "data": {
      "text/html": [
       "<div>\n",
       "<style scoped>\n",
       "    .dataframe tbody tr th:only-of-type {\n",
       "        vertical-align: middle;\n",
       "    }\n",
       "\n",
       "    .dataframe tbody tr th {\n",
       "        vertical-align: top;\n",
       "    }\n",
       "\n",
       "    .dataframe thead th {\n",
       "        text-align: right;\n",
       "    }\n",
       "</style>\n",
       "<table border=\"1\" class=\"dataframe\">\n",
       "  <thead>\n",
       "    <tr style=\"text-align: right;\">\n",
       "      <th></th>\n",
       "      <th>name</th>\n",
       "      <th>date</th>\n",
       "      <th>file_name</th>\n",
       "      <th>status</th>\n",
       "      <th>original_url</th>\n",
       "      <th>final_url</th>\n",
       "      <th>encoding</th>\n",
       "    </tr>\n",
       "  </thead>\n",
       "  <tbody>\n",
       "    <tr>\n",
       "      <th>0</th>\n",
       "      <td>sz</td>\n",
       "      <td>2021-03-03</td>\n",
       "      <td>data-lake/2021-03-03-sz.html</td>\n",
       "      <td>200</td>\n",
       "      <td>https://www.sueddeutsche.de/</td>\n",
       "      <td>https://www.sueddeutsche.de/</td>\n",
       "      <td>UTF-8</td>\n",
       "    </tr>\n",
       "    <tr>\n",
       "      <th>1</th>\n",
       "      <td>abendblatt</td>\n",
       "      <td>2021-03-03</td>\n",
       "      <td>data-lake/2021-03-03-abendblatt.html</td>\n",
       "      <td>200</td>\n",
       "      <td>https://www.abendblatt.de/</td>\n",
       "      <td>https://www.abendblatt.de/</td>\n",
       "      <td>UTF-8</td>\n",
       "    </tr>\n",
       "    <tr>\n",
       "      <th>2</th>\n",
       "      <td>handelsblatt</td>\n",
       "      <td>2021-03-03</td>\n",
       "      <td>data-lake/2021-03-03-handelsblatt.html</td>\n",
       "      <td>200</td>\n",
       "      <td>https://www.handelsblatt.com/</td>\n",
       "      <td>https://www.handelsblatt.com/</td>\n",
       "      <td>utf-8</td>\n",
       "    </tr>\n",
       "    <tr>\n",
       "      <th>3</th>\n",
       "      <td>economist</td>\n",
       "      <td>2021-03-03</td>\n",
       "      <td>data-lake/2021-03-03-economist .html</td>\n",
       "      <td>200</td>\n",
       "      <td>https://www.economist.com/</td>\n",
       "      <td>https://www.economist.com/</td>\n",
       "      <td>utf-8</td>\n",
       "    </tr>\n",
       "    <tr>\n",
       "      <th>4</th>\n",
       "      <td>cnn</td>\n",
       "      <td>2021-03-03</td>\n",
       "      <td>data-lake/2021-03-03-cnn.html</td>\n",
       "      <td>200</td>\n",
       "      <td>https://edition.cnn.com/</td>\n",
       "      <td>https://edition.cnn.com/</td>\n",
       "      <td>utf-8</td>\n",
       "    </tr>\n",
       "  </tbody>\n",
       "</table>\n",
       "</div>"
      ],
      "text/plain": [
       "           name        date                               file_name  status  \\\n",
       "0            sz  2021-03-03            data-lake/2021-03-03-sz.html     200   \n",
       "1    abendblatt  2021-03-03    data-lake/2021-03-03-abendblatt.html     200   \n",
       "2  handelsblatt  2021-03-03  data-lake/2021-03-03-handelsblatt.html     200   \n",
       "3    economist   2021-03-03    data-lake/2021-03-03-economist .html     200   \n",
       "4           cnn  2021-03-03           data-lake/2021-03-03-cnn.html     200   \n",
       "\n",
       "                    original_url                      final_url encoding  \n",
       "0   https://www.sueddeutsche.de/   https://www.sueddeutsche.de/    UTF-8  \n",
       "1     https://www.abendblatt.de/     https://www.abendblatt.de/    UTF-8  \n",
       "2  https://www.handelsblatt.com/  https://www.handelsblatt.com/    utf-8  \n",
       "3     https://www.economist.com/     https://www.economist.com/    utf-8  \n",
       "4       https://edition.cnn.com/       https://edition.cnn.com/    utf-8  "
      ]
     },
     "execution_count": 40,
     "metadata": {},
     "output_type": "execute_result"
    }
   ],
   "source": [
    "pd.read_sql_query(\"select * from log_data limit 5\", con=connection)  # Anzeige der ersten 5 Einträge"
   ]
  },
  {
   "cell_type": "code",
   "execution_count": 41,
   "id": "6e16a872-8870-4d9b-a559-cc5130607f76",
   "metadata": {},
   "outputs": [
    {
     "data": {
      "text/html": [
       "<div>\n",
       "<style scoped>\n",
       "    .dataframe tbody tr th:only-of-type {\n",
       "        vertical-align: middle;\n",
       "    }\n",
       "\n",
       "    .dataframe tbody tr th {\n",
       "        vertical-align: top;\n",
       "    }\n",
       "\n",
       "    .dataframe thead th {\n",
       "        text-align: right;\n",
       "    }\n",
       "</style>\n",
       "<table border=\"1\" class=\"dataframe\">\n",
       "  <thead>\n",
       "    <tr style=\"text-align: right;\">\n",
       "      <th></th>\n",
       "      <th>count('index')</th>\n",
       "    </tr>\n",
       "  </thead>\n",
       "  <tbody>\n",
       "    <tr>\n",
       "      <th>0</th>\n",
       "      <td>2033</td>\n",
       "    </tr>\n",
       "  </tbody>\n",
       "</table>\n",
       "</div>"
      ],
      "text/plain": [
       "   count('index')\n",
       "0            2033"
      ]
     },
     "execution_count": 41,
     "metadata": {},
     "output_type": "execute_result"
    }
   ],
   "source": [
    "pd.read_sql_query(\"select count('index') from log_data\", con=connection)"
   ]
  },
  {
   "cell_type": "markdown",
   "id": "a2a392b0-0a92-4736-8bb2-d5024604fd69",
   "metadata": {},
   "source": [
    "#### Datei: wordcount_data (Dimension)"
   ]
  },
  {
   "cell_type": "code",
   "execution_count": 42,
   "id": "03262b8f-16c0-4225-a0e3-8b628a61a189",
   "metadata": {},
   "outputs": [
    {
     "data": {
      "text/html": [
       "<div>\n",
       "<style scoped>\n",
       "    .dataframe tbody tr th:only-of-type {\n",
       "        vertical-align: middle;\n",
       "    }\n",
       "\n",
       "    .dataframe tbody tr th {\n",
       "        vertical-align: top;\n",
       "    }\n",
       "\n",
       "    .dataframe thead th {\n",
       "        text-align: right;\n",
       "    }\n",
       "</style>\n",
       "<table border=\"1\" class=\"dataframe\">\n",
       "  <thead>\n",
       "    <tr style=\"text-align: right;\">\n",
       "      <th></th>\n",
       "      <th>count</th>\n",
       "      <th>word</th>\n",
       "      <th>file_name</th>\n",
       "    </tr>\n",
       "  </thead>\n",
       "  <tbody>\n",
       "    <tr>\n",
       "      <th>0</th>\n",
       "      <td>1</td>\n",
       "      <td>cum-ex</td>\n",
       "      <td>data-lake/2021-03-03-abendblatt.html</td>\n",
       "    </tr>\n",
       "    <tr>\n",
       "      <th>1</th>\n",
       "      <td>1</td>\n",
       "      <td>cum-ex-affäre</td>\n",
       "      <td>data-lake/2021-03-13-abendblatt.html</td>\n",
       "    </tr>\n",
       "    <tr>\n",
       "      <th>2</th>\n",
       "      <td>2</td>\n",
       "      <td>cum-ex-ermittlungen</td>\n",
       "      <td>data-lake/2021-03-13-handelsblatt.html</td>\n",
       "    </tr>\n",
       "    <tr>\n",
       "      <th>3</th>\n",
       "      <td>1</td>\n",
       "      <td>imagecum-ex-skandal oberlandesgericht</td>\n",
       "      <td>data-lake/2021-03-13-handelsblatt.html</td>\n",
       "    </tr>\n",
       "    <tr>\n",
       "      <th>4</th>\n",
       "      <td>1</td>\n",
       "      <td>„cum-ex“-ausschuss</td>\n",
       "      <td>data-lake/2021-03-13-handelsblatt.html</td>\n",
       "    </tr>\n",
       "  </tbody>\n",
       "</table>\n",
       "</div>"
      ],
      "text/plain": [
       "   count                                   word  \\\n",
       "0      1                                 cum-ex   \n",
       "1      1                          cum-ex-affäre   \n",
       "2      2                    cum-ex-ermittlungen   \n",
       "3      1  imagecum-ex-skandal oberlandesgericht   \n",
       "4      1                     „cum-ex“-ausschuss   \n",
       "\n",
       "                                file_name  \n",
       "0    data-lake/2021-03-03-abendblatt.html  \n",
       "1    data-lake/2021-03-13-abendblatt.html  \n",
       "2  data-lake/2021-03-13-handelsblatt.html  \n",
       "3  data-lake/2021-03-13-handelsblatt.html  \n",
       "4  data-lake/2021-03-13-handelsblatt.html  "
      ]
     },
     "execution_count": 42,
     "metadata": {},
     "output_type": "execute_result"
    }
   ],
   "source": [
    "pd.read_sql_query(\"select * from wordcount_data limit 5\", con=connection)  # Anzeige der ersten 5 Einträge"
   ]
  },
  {
   "cell_type": "code",
   "execution_count": 43,
   "id": "49d5c30b-1ec1-4da7-b453-7201ca130394",
   "metadata": {},
   "outputs": [
    {
     "data": {
      "text/html": [
       "<div>\n",
       "<style scoped>\n",
       "    .dataframe tbody tr th:only-of-type {\n",
       "        vertical-align: middle;\n",
       "    }\n",
       "\n",
       "    .dataframe tbody tr th {\n",
       "        vertical-align: top;\n",
       "    }\n",
       "\n",
       "    .dataframe thead th {\n",
       "        text-align: right;\n",
       "    }\n",
       "</style>\n",
       "<table border=\"1\" class=\"dataframe\">\n",
       "  <thead>\n",
       "    <tr style=\"text-align: right;\">\n",
       "      <th></th>\n",
       "      <th>count('index')</th>\n",
       "    </tr>\n",
       "  </thead>\n",
       "  <tbody>\n",
       "    <tr>\n",
       "      <th>0</th>\n",
       "      <td>125</td>\n",
       "    </tr>\n",
       "  </tbody>\n",
       "</table>\n",
       "</div>"
      ],
      "text/plain": [
       "   count('index')\n",
       "0             125"
      ]
     },
     "execution_count": 43,
     "metadata": {},
     "output_type": "execute_result"
    }
   ],
   "source": [
    "pd.read_sql_query(\"select count('index') from wordcount_data\", con=connection)"
   ]
  },
  {
   "cell_type": "markdown",
   "id": "e24f1f6b-31b1-4cdf-9316-406cde608bd5",
   "metadata": {},
   "source": [
    "#### Datei: sz_header_data (Dimension)"
   ]
  },
  {
   "cell_type": "code",
   "execution_count": 44,
   "id": "30c9e935-1e11-4138-9291-9bc790d1c928",
   "metadata": {},
   "outputs": [
    {
     "data": {
      "text/html": [
       "<div>\n",
       "<style scoped>\n",
       "    .dataframe tbody tr th:only-of-type {\n",
       "        vertical-align: middle;\n",
       "    }\n",
       "\n",
       "    .dataframe tbody tr th {\n",
       "        vertical-align: top;\n",
       "    }\n",
       "\n",
       "    .dataframe thead th {\n",
       "        text-align: right;\n",
       "    }\n",
       "</style>\n",
       "<table border=\"1\" class=\"dataframe\">\n",
       "  <thead>\n",
       "    <tr style=\"text-align: right;\">\n",
       "      <th></th>\n",
       "      <th>file_name</th>\n",
       "      <th>header</th>\n",
       "    </tr>\n",
       "  </thead>\n",
       "  <tbody>\n",
       "    <tr>\n",
       "      <th>0</th>\n",
       "      <td>data-lake/2021-03-03-sz.html</td>\n",
       "      <td>Scholz will Corona-Beschränkungen für Geimpfte...</td>\n",
       "    </tr>\n",
       "    <tr>\n",
       "      <th>1</th>\n",
       "      <td>data-lake/2021-03-03-sz.html</td>\n",
       "      <td>So könnte der Fahrplan für Lockerungen aussehen</td>\n",
       "    </tr>\n",
       "    <tr>\n",
       "      <th>2</th>\n",
       "      <td>data-lake/2021-03-03-sz.html</td>\n",
       "      <td>Wege aus dem Lockdown</td>\n",
       "    </tr>\n",
       "    <tr>\n",
       "      <th>3</th>\n",
       "      <td>data-lake/2021-03-03-sz.html</td>\n",
       "      <td>Der Verdachtsfall</td>\n",
       "    </tr>\n",
       "    <tr>\n",
       "      <th>4</th>\n",
       "      <td>data-lake/2021-03-03-sz.html</td>\n",
       "      <td>Kein Geheimdienst kann allein diese Demokratie...</td>\n",
       "    </tr>\n",
       "  </tbody>\n",
       "</table>\n",
       "</div>"
      ],
      "text/plain": [
       "                      file_name  \\\n",
       "0  data-lake/2021-03-03-sz.html   \n",
       "1  data-lake/2021-03-03-sz.html   \n",
       "2  data-lake/2021-03-03-sz.html   \n",
       "3  data-lake/2021-03-03-sz.html   \n",
       "4  data-lake/2021-03-03-sz.html   \n",
       "\n",
       "                                              header  \n",
       "0  Scholz will Corona-Beschränkungen für Geimpfte...  \n",
       "1    So könnte der Fahrplan für Lockerungen aussehen  \n",
       "2                              Wege aus dem Lockdown  \n",
       "3                                  Der Verdachtsfall  \n",
       "4  Kein Geheimdienst kann allein diese Demokratie...  "
      ]
     },
     "execution_count": 44,
     "metadata": {},
     "output_type": "execute_result"
    }
   ],
   "source": [
    "pd.read_sql_query(\"select * from sz_header_data limit 5\", con=connection)  # Anzeige der ersten 5 Einträge"
   ]
  },
  {
   "cell_type": "code",
   "execution_count": 45,
   "id": "8dc3266e-3210-486c-8c8b-028c55e14b1e",
   "metadata": {},
   "outputs": [
    {
     "data": {
      "text/html": [
       "<div>\n",
       "<style scoped>\n",
       "    .dataframe tbody tr th:only-of-type {\n",
       "        vertical-align: middle;\n",
       "    }\n",
       "\n",
       "    .dataframe tbody tr th {\n",
       "        vertical-align: top;\n",
       "    }\n",
       "\n",
       "    .dataframe thead th {\n",
       "        text-align: right;\n",
       "    }\n",
       "</style>\n",
       "<table border=\"1\" class=\"dataframe\">\n",
       "  <thead>\n",
       "    <tr style=\"text-align: right;\">\n",
       "      <th></th>\n",
       "      <th>count('index')</th>\n",
       "    </tr>\n",
       "  </thead>\n",
       "  <tbody>\n",
       "    <tr>\n",
       "      <th>0</th>\n",
       "      <td>22362</td>\n",
       "    </tr>\n",
       "  </tbody>\n",
       "</table>\n",
       "</div>"
      ],
      "text/plain": [
       "   count('index')\n",
       "0           22362"
      ]
     },
     "execution_count": 45,
     "metadata": {},
     "output_type": "execute_result"
    }
   ],
   "source": [
    "pd.read_sql_query(\"select count('index') from sz_header_data\", con=connection)"
   ]
  },
  {
   "cell_type": "markdown",
   "id": "76455d86-4aae-48d6-a978-a83395993b55",
   "metadata": {},
   "source": [
    "#### Datei: hb_header_data (Dimension)"
   ]
  },
  {
   "cell_type": "code",
   "execution_count": 46,
   "id": "20190846-d573-4471-9534-e56f46e9fe69",
   "metadata": {},
   "outputs": [
    {
     "data": {
      "text/html": [
       "<div>\n",
       "<style scoped>\n",
       "    .dataframe tbody tr th:only-of-type {\n",
       "        vertical-align: middle;\n",
       "    }\n",
       "\n",
       "    .dataframe tbody tr th {\n",
       "        vertical-align: top;\n",
       "    }\n",
       "\n",
       "    .dataframe thead th {\n",
       "        text-align: right;\n",
       "    }\n",
       "</style>\n",
       "<table border=\"1\" class=\"dataframe\">\n",
       "  <thead>\n",
       "    <tr style=\"text-align: right;\">\n",
       "      <th></th>\n",
       "      <th>file_name</th>\n",
       "      <th>header</th>\n",
       "    </tr>\n",
       "  </thead>\n",
       "  <tbody>\n",
       "    <tr>\n",
       "      <th>0</th>\n",
       "      <td>data-lake/2021-03-03-handelsblatt.html</td>\n",
       "      <td>CoronakrisePandemiemüdigkeit in der Koalition:...</td>\n",
       "    </tr>\n",
       "    <tr>\n",
       "      <th>1</th>\n",
       "      <td>data-lake/2021-03-03-handelsblatt.html</td>\n",
       "      <td>+++ Corona-News +++BASF sieht wöchentliche Cor...</td>\n",
       "    </tr>\n",
       "    <tr>\n",
       "      <th>2</th>\n",
       "      <td>data-lake/2021-03-03-handelsblatt.html</td>\n",
       "      <td>ImmobilienZwei Anzeichen, dass die Bauzinsen b...</td>\n",
       "    </tr>\n",
       "    <tr>\n",
       "      <th>3</th>\n",
       "      <td>data-lake/2021-03-03-handelsblatt.html</td>\n",
       "      <td>KryptowährungenStartkapital 15 Euro: Was Klein...</td>\n",
       "    </tr>\n",
       "    <tr>\n",
       "      <th>4</th>\n",
       "      <td>data-lake/2021-03-03-handelsblatt.html</td>\n",
       "      <td>BewerbungZu teuer, zu qualifiziert, zu schräg:...</td>\n",
       "    </tr>\n",
       "  </tbody>\n",
       "</table>\n",
       "</div>"
      ],
      "text/plain": [
       "                                file_name  \\\n",
       "0  data-lake/2021-03-03-handelsblatt.html   \n",
       "1  data-lake/2021-03-03-handelsblatt.html   \n",
       "2  data-lake/2021-03-03-handelsblatt.html   \n",
       "3  data-lake/2021-03-03-handelsblatt.html   \n",
       "4  data-lake/2021-03-03-handelsblatt.html   \n",
       "\n",
       "                                              header  \n",
       "0  CoronakrisePandemiemüdigkeit in der Koalition:...  \n",
       "1  +++ Corona-News +++BASF sieht wöchentliche Cor...  \n",
       "2  ImmobilienZwei Anzeichen, dass die Bauzinsen b...  \n",
       "3  KryptowährungenStartkapital 15 Euro: Was Klein...  \n",
       "4  BewerbungZu teuer, zu qualifiziert, zu schräg:...  "
      ]
     },
     "execution_count": 46,
     "metadata": {},
     "output_type": "execute_result"
    }
   ],
   "source": [
    "pd.read_sql_query(\"select * from hb_header_data limit 5\", con=connection)  # Anzeige der ersten 5 Einträge"
   ]
  },
  {
   "cell_type": "code",
   "execution_count": 47,
   "id": "59411bd0-b9d0-4b47-947f-754eeb11879f",
   "metadata": {},
   "outputs": [
    {
     "data": {
      "text/html": [
       "<div>\n",
       "<style scoped>\n",
       "    .dataframe tbody tr th:only-of-type {\n",
       "        vertical-align: middle;\n",
       "    }\n",
       "\n",
       "    .dataframe tbody tr th {\n",
       "        vertical-align: top;\n",
       "    }\n",
       "\n",
       "    .dataframe thead th {\n",
       "        text-align: right;\n",
       "    }\n",
       "</style>\n",
       "<table border=\"1\" class=\"dataframe\">\n",
       "  <thead>\n",
       "    <tr style=\"text-align: right;\">\n",
       "      <th></th>\n",
       "      <th>count('index')</th>\n",
       "    </tr>\n",
       "  </thead>\n",
       "  <tbody>\n",
       "    <tr>\n",
       "      <th>0</th>\n",
       "      <td>13458</td>\n",
       "    </tr>\n",
       "  </tbody>\n",
       "</table>\n",
       "</div>"
      ],
      "text/plain": [
       "   count('index')\n",
       "0           13458"
      ]
     },
     "execution_count": 47,
     "metadata": {},
     "output_type": "execute_result"
    }
   ],
   "source": [
    "pd.read_sql_query(\"select count('index') from hb_header_data\", con=connection)"
   ]
  },
  {
   "cell_type": "markdown",
   "id": "85874037-b8f4-4fab-9b4e-3eefcf6b6d44",
   "metadata": {},
   "source": [
    "#### Datei: ab_header_data (Dimension)"
   ]
  },
  {
   "cell_type": "code",
   "execution_count": 48,
   "id": "5923b68e-3769-4122-879a-0cc62337e30e",
   "metadata": {},
   "outputs": [
    {
     "data": {
      "text/html": [
       "<div>\n",
       "<style scoped>\n",
       "    .dataframe tbody tr th:only-of-type {\n",
       "        vertical-align: middle;\n",
       "    }\n",
       "\n",
       "    .dataframe tbody tr th {\n",
       "        vertical-align: top;\n",
       "    }\n",
       "\n",
       "    .dataframe thead th {\n",
       "        text-align: right;\n",
       "    }\n",
       "</style>\n",
       "<table border=\"1\" class=\"dataframe\">\n",
       "  <thead>\n",
       "    <tr style=\"text-align: right;\">\n",
       "      <th></th>\n",
       "      <th>file_name</th>\n",
       "      <th>header</th>\n",
       "    </tr>\n",
       "  </thead>\n",
       "  <tbody>\n",
       "    <tr>\n",
       "      <th>0</th>\n",
       "      <td>data-lake/2021-03-03-abendblatt.html</td>\n",
       "      <td>Der Elbtower – nur ein Steuersparp...</td>\n",
       "    </tr>\n",
       "    <tr>\n",
       "      <th>1</th>\n",
       "      <td>data-lake/2021-03-03-abendblatt.html</td>\n",
       "      <td>Corona: Merkel zu Beginn des Gipfe...</td>\n",
       "    </tr>\n",
       "    <tr>\n",
       "      <th>2</th>\n",
       "      <td>data-lake/2021-03-03-abendblatt.html</td>\n",
       "      <td>Uni-Präsident entschuldigt sich fü...</td>\n",
       "    </tr>\n",
       "    <tr>\n",
       "      <th>3</th>\n",
       "      <td>data-lake/2021-03-03-abendblatt.html</td>\n",
       "      <td>Warum Zierpflanzen jetzt in Hambur...</td>\n",
       "    </tr>\n",
       "    <tr>\n",
       "      <th>4</th>\n",
       "      <td>data-lake/2021-03-03-abendblatt.html</td>\n",
       "      <td>Hamburg ruft nächste Gruppe zur Co...</td>\n",
       "    </tr>\n",
       "  </tbody>\n",
       "</table>\n",
       "</div>"
      ],
      "text/plain": [
       "                              file_name  \\\n",
       "0  data-lake/2021-03-03-abendblatt.html   \n",
       "1  data-lake/2021-03-03-abendblatt.html   \n",
       "2  data-lake/2021-03-03-abendblatt.html   \n",
       "3  data-lake/2021-03-03-abendblatt.html   \n",
       "4  data-lake/2021-03-03-abendblatt.html   \n",
       "\n",
       "                                              header  \n",
       "0              Der Elbtower – nur ein Steuersparp...  \n",
       "1              Corona: Merkel zu Beginn des Gipfe...  \n",
       "2              Uni-Präsident entschuldigt sich fü...  \n",
       "3              Warum Zierpflanzen jetzt in Hambur...  \n",
       "4              Hamburg ruft nächste Gruppe zur Co...  "
      ]
     },
     "execution_count": 48,
     "metadata": {},
     "output_type": "execute_result"
    }
   ],
   "source": [
    "pd.read_sql_query(\"select * from ab_header_data limit 5\", con=connection)  # Anzeige der ersten 5 Einträge"
   ]
  },
  {
   "cell_type": "code",
   "execution_count": 49,
   "id": "88c11188-53ae-4e33-9678-adcc440cdc84",
   "metadata": {},
   "outputs": [
    {
     "data": {
      "text/html": [
       "<div>\n",
       "<style scoped>\n",
       "    .dataframe tbody tr th:only-of-type {\n",
       "        vertical-align: middle;\n",
       "    }\n",
       "\n",
       "    .dataframe tbody tr th {\n",
       "        vertical-align: top;\n",
       "    }\n",
       "\n",
       "    .dataframe thead th {\n",
       "        text-align: right;\n",
       "    }\n",
       "</style>\n",
       "<table border=\"1\" class=\"dataframe\">\n",
       "  <thead>\n",
       "    <tr style=\"text-align: right;\">\n",
       "      <th></th>\n",
       "      <th>count('index')</th>\n",
       "    </tr>\n",
       "  </thead>\n",
       "  <tbody>\n",
       "    <tr>\n",
       "      <th>0</th>\n",
       "      <td>19363</td>\n",
       "    </tr>\n",
       "  </tbody>\n",
       "</table>\n",
       "</div>"
      ],
      "text/plain": [
       "   count('index')\n",
       "0           19363"
      ]
     },
     "execution_count": 49,
     "metadata": {},
     "output_type": "execute_result"
    }
   ],
   "source": [
    "pd.read_sql_query(\"select count('index') from ab_header_data\", con=connection)"
   ]
  },
  {
   "cell_type": "markdown",
   "id": "301984c9-547d-4502-833b-d2a4fdf6f6dc",
   "metadata": {},
   "source": [
    "### DWH Performance-Check"
   ]
  },
  {
   "cell_type": "code",
   "execution_count": 50,
   "id": "92dde9c6-994c-4673-b778-2b381a50a329",
   "metadata": {},
   "outputs": [
    {
     "data": {
      "text/plain": [
       "0.003001689910888672"
      ]
     },
     "execution_count": 50,
     "metadata": {},
     "output_type": "execute_result"
    }
   ],
   "source": [
    "t1 = time()\n",
    "f3 = pd.read_sql_query(\"select * from wordcount_data where word='cum-ex'\", con=connection)\n",
    "t2 = time()\n",
    "t2-t1"
   ]
  },
  {
   "cell_type": "code",
   "execution_count": 51,
   "id": "4664e098-fef9-447e-9423-71ddb6a754ec",
   "metadata": {},
   "outputs": [
    {
     "data": {
      "text/plain": [
       "0.00500035285949707"
      ]
     },
     "execution_count": 51,
     "metadata": {},
     "output_type": "execute_result"
    }
   ],
   "source": [
    "t1 = time()\n",
    "f3 = pd.read_sql_query(\"select * from log_data where name='bbc'\", con=connection)\n",
    "t2 = time()\n",
    "t2-t1"
   ]
  },
  {
   "cell_type": "code",
   "execution_count": 52,
   "id": "4e994fa6-abd1-421a-94bb-be34dc82c34d",
   "metadata": {},
   "outputs": [
    {
     "data": {
      "text/plain": [
       "0.058990478515625"
      ]
     },
     "execution_count": 52,
     "metadata": {},
     "output_type": "execute_result"
    }
   ],
   "source": [
    "t1 = time()\n",
    "f3 = pd.read_sql_query(\"select * from ab_header_data where length(header) > 30\", con=connection)\n",
    "t2 = time()\n",
    "t2-t1"
   ]
  },
  {
   "cell_type": "markdown",
   "id": "a4108341-d96d-418c-9ad0-25ad6b96f261",
   "metadata": {},
   "source": [
    "## Join SQL Datenbank-Files"
   ]
  },
  {
   "cell_type": "code",
   "execution_count": 53,
   "id": "5ffae720-44ba-4e56-ac70-0ab5424ba08b",
   "metadata": {},
   "outputs": [],
   "source": [
    "# Join log_data <> wordcount_data\n",
    "query = \"\"\"  \n",
    "SELECT *\n",
    "FROM log_data INNER JOIN wordcount_data\n",
    "WHERE log_data.file_name = wordcount_data.file_name\n",
    "\"\"\"\n",
    "lw = pd.read_sql_query(query, con=connection)"
   ]
  },
  {
   "cell_type": "code",
   "execution_count": 54,
   "id": "e3491274-27eb-4ca0-890a-7b3e84383cfe",
   "metadata": {},
   "outputs": [],
   "source": [
    "# Join log_data <> sz_header_data\n",
    "query = \"\"\"  \n",
    "SELECT *\n",
    "FROM log_data INNER JOIN sz_header_data\n",
    "WHERE log_data.file_name = sz_header_data.file_name\n",
    "\"\"\"\n",
    "lw = pd.read_sql_query(query, con=connection)"
   ]
  },
  {
   "cell_type": "code",
   "execution_count": 55,
   "id": "2f8751e9-6c5d-44fc-bf8e-ef1cb681c7cb",
   "metadata": {},
   "outputs": [],
   "source": [
    "# Join log_data <> hb_header_data\n",
    "query = \"\"\"  \n",
    "SELECT *\n",
    "FROM log_data INNER JOIN hb_header_data\n",
    "WHERE log_data.file_name = hb_header_data.file_name\n",
    "\"\"\"\n",
    "lw = pd.read_sql_query(query, con=connection)"
   ]
  },
  {
   "cell_type": "code",
   "execution_count": 56,
   "id": "aa4fca8c-7a4a-4df4-b66f-5a53bda02f0c",
   "metadata": {},
   "outputs": [],
   "source": [
    "# Join log_data <> ab_header_data\n",
    "query = \"\"\"  \n",
    "SELECT *\n",
    "FROM log_data INNER JOIN ab_header_data\n",
    "WHERE log_data.file_name = ab_header_data.file_name\n",
    "\"\"\"\n",
    "lw = pd.read_sql_query(query, con=connection)"
   ]
  }
 ],
 "metadata": {
  "kernelspec": {
   "display_name": "sphinx",
   "language": "python",
   "name": "python3"
  },
  "language_info": {
   "codemirror_mode": {
    "name": "ipython",
    "version": 3
   },
   "file_extension": ".py",
   "mimetype": "text/x-python",
   "name": "python",
   "nbconvert_exporter": "python",
   "pygments_lexer": "ipython3",
   "version": "3.9.15 (main, Nov 24 2022, 14:39:17) [MSC v.1916 64 bit (AMD64)]"
  },
  "vscode": {
   "interpreter": {
    "hash": "658e8e4de9f7ecf12e36d40b0fbc7d8aecb2481193d325b88ccd8cf1ac7760e0"
   }
  }
 },
 "nbformat": 4,
 "nbformat_minor": 5
}
